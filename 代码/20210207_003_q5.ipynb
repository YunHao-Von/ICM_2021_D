{
 "cells": [
  {
   "cell_type": "code",
   "execution_count": 118,
   "metadata": {
    "collapsed": true
   },
   "outputs": [],
   "source": [
    "import pandas as pd\n",
    "import numpy as np\n",
    "from matplotlib import pyplot as plt\n",
    "from sklearn.cluster import AgglomerativeClustering\n",
    "from sklearn.metrics.pairwise import euclidean_distances\n",
    "import scipy.spatial.distance as dist\n",
    "from scipy.cluster.hierarchy import dendrogram, linkage\n",
    "data=pd.read_csv(\"TempData/question5/ZhuChengfen(year).csv\",encoding='ANSI')\n",
    "time=data['时间'].tolist()\n",
    "data_with_out_time=data.drop(columns=['时间'])"
   ]
  },
  {
   "cell_type": "code",
   "execution_count": 119,
   "outputs": [
    {
     "data": {
      "text/plain": "matrix([[0.        , 4.60509232, 4.29814347, ..., 4.89384247, 4.93257468,\n         4.96450506],\n        [4.60509232, 0.        , 4.05570243, ..., 4.81534963, 4.8415596 ,\n         4.85823566],\n        [4.29814347, 4.05570243, 0.        , ..., 4.24090356, 4.27214982,\n         4.28998234],\n        ...,\n        [4.89384247, 4.81534963, 4.24090356, ..., 0.        , 1.34267375,\n         1.4221179 ],\n        [4.93257468, 4.8415596 , 4.27214982, ..., 1.34267375, 0.        ,\n         1.44316083],\n        [4.96450506, 4.85823566, 4.28998234, ..., 1.4221179 , 1.44316083,\n         0.        ]])"
     },
     "execution_count": 119,
     "metadata": {},
     "output_type": "execute_result"
    }
   ],
   "source": [
    "import numpy as np\n",
    "from sklearn.preprocessing import scale\n",
    "data_with_out_time=scale(data_with_out_time)\n",
    "time_window_length=10\n",
    "C=[]\n",
    "window=[]\n",
    "for i in range(0,91):\n",
    "    ci=data_with_out_time[i:i+10,:]\n",
    "    C.append(ci)\n",
    "    window.append(time[i:i+10])\n",
    "def euclidean(x, y):\n",
    "    return (np.sum((x - y)**2))\n",
    "def make_juli(x,y):\n",
    "    a=x\n",
    "    b=y\n",
    "    juli=0\n",
    "    for i in range(len(a)):\n",
    "        for j in range(len(b)):\n",
    "            juli=euclidean(a[i],b[j])+juli\n",
    "    juli=np.sqrt(juli/(len(a)*len(b)))\n",
    "    return juli\n",
    "dist_matrix = np.mat(np.zeros((len(C), len(C))))\n",
    "for i in range(len(C)):\n",
    "    for j in range(len(C)):\n",
    "        dist_matrix[i,j]=make_juli(C[i],C[j])\n",
    "        if i==j:\n",
    "            dist_matrix[i,j]=0\n",
    "dist_matrix"
   ],
   "metadata": {
    "collapsed": false,
    "pycharm": {
     "name": "#%%\n"
    }
   }
  },
  {
   "cell_type": "code",
   "execution_count": 120,
   "outputs": [
    {
     "data": {
      "text/plain": "<Figure size 432x288 with 1 Axes>",
      "image/png": "[encoded data removed]"
     },
     "metadata": {},
     "output_type": "display_data"
    }
   ],
   "source": [
    "X=[]\n",
    "for i in range(len(C)):\n",
    "    X.append(C[i].mean(axis=0))\n",
    "X=np.array(X)\n",
    "X.shape\n",
    "from sklearn.preprocessing import scale\n",
    "import numpy as np\n",
    "A=X\n",
    "from sklearn.cluster import KMeans\n",
    "TSSE=[]\n",
    "K=19\n",
    "for k in range(1,K+1):\n",
    "    SSE=[]\n",
    "    md=KMeans(n_clusters=k)\n",
    "    md.fit(A)\n",
    "    labels=md.labels_\n",
    "    centers=md.cluster_centers_\n",
    "    for label in set(labels):\n",
    "        SSE.append(np.sum((A[labels==label,:]-centers[label,:])**2))\n",
    "    TSSE.append(np.sum(SSE))\n",
    "plt.figure(2)\n",
    "plt.plot(range(1,K+1),TSSE,'b*-')\n",
    "plt.plot(5,TSSE[4],'r*')\n",
    "plt.xlabel(\"count of cluster\")\n",
    "plt.ylabel(\"SSE in cluster\")\n",
    "plt.show()"
   ],
   "metadata": {
    "collapsed": false,
    "pycharm": {
     "name": "#%%\n"
    }
   }
  },
  {
   "cell_type": "code",
   "execution_count": 121,
   "outputs": [
    {
     "name": "stdout",
     "output_type": "stream",
     "text": [
      "自定义距离矩阵聚类方式：\n",
      "每个数据所属的簇编号： [3 2 0 0 0 0 0 0 0 0 0 0 0 0 0 0 1 1 1 1 4 4 4 4 4 4 4 4 4 4 4 4 4 4 4 4 4\n",
      " 4 4 4 4 4 4 4 4 4 4 4 4 4 4 4 4 4 4 4 4 4 4 4 4 4 4 4 4 4 4 4 4 4 4 4 4 4\n",
      " 4 4 4 4 4 4 4 4 4 4 4 4 4 4 4 4 4]\n"
     ]
    }
   ],
   "source": [
    "import numpy as np\n",
    "from matplotlib import pyplot as plt\n",
    "from sklearn.cluster import AgglomerativeClustering\n",
    "from sklearn.metrics.pairwise import euclidean_distances\n",
    "import scipy.spatial.distance as dist\n",
    "from scipy.cluster.hierarchy import dendrogram, linkage\n",
    "model = AgglomerativeClustering(n_clusters=5, affinity='precomputed', linkage='average')\n",
    "clustering2 = model.fit(dist_matrix)\n",
    "centers=clustering2\n",
    "print(\"自定义距离矩阵聚类方式：\")\n",
    "print(\"每个数据所属的簇编号：\", clustering2.labels_)"
   ],
   "metadata": {
    "collapsed": false,
    "pycharm": {
     "name": "#%%\n"
    }
   }
  },
  {
   "cell_type": "code",
   "execution_count": 122,
   "outputs": [],
   "source": [
    "window=np.array(window)\n",
    "window=pd.DataFrame(window)\n",
    "window['cluster']=list(clustering2.labels_)"
   ],
   "metadata": {
    "collapsed": false,
    "pycharm": {
     "name": "#%%\n"
    }
   }
  },
  {
   "cell_type": "code",
   "execution_count": 123,
   "outputs": [],
   "source": [
    "window.to_csv(\"TempData/question5/time_window.csv\",encoding=\"utf-8\",index=False)"
   ],
   "metadata": {
    "collapsed": false,
    "pycharm": {
     "name": "#%%\n"
    }
   }
  },
  {
   "cell_type": "code",
   "execution_count": null,
   "outputs": [],
   "source": [
    "'''进入战后状态'''"
   ],
   "metadata": {
    "collapsed": false,
    "pycharm": {
     "name": "#%%\n"
    }
   }
  },
  {
   "cell_type": "code",
   "execution_count": null,
   "outputs": [],
   "source": [
    "import pandas as pd\n",
    "import numpy as np\n",
    "from matplotlib import pyplot as plt\n",
    "from sklearn.cluster import AgglomerativeClustering\n",
    "from sklearn.metrics.pairwise import euclidean_distances\n",
    "import scipy.spatial.distance as dist\n",
    "from scipy.cluster.hierarchy import dendrogram, linkage\n",
    "data=pd.read_csv(\"TempData/question5/ZhuChengfen(year).csv\",encoding='ANSI')\n",
    "time=data['时间'].tolist()\n",
    "data_with_out_time=data.drop(columns=['时间'])"
   ],
   "metadata": {
    "collapsed": false,
    "pycharm": {
     "name": "#%%\n"
    }
   }
  },
  {
   "cell_type": "code",
   "execution_count": null,
   "outputs": [],
   "source": [
    "import numpy as np\n",
    "from sklearn.preprocessing import scale\n",
    "data_with_out_time=scale(data_with_out_time)\n",
    "time_window_length=10\n",
    "C=[]\n",
    "window=[]\n",
    "for i in range(32,91):\n",
    "    ci=data_with_out_time[i:i+10,:]\n",
    "    C.append(ci)\n",
    "    window.append(time[i:i+10])\n",
    "def euclidean(x, y):\n",
    "    return (np.sum((x - y)**2))\n",
    "def make_juli(x,y):\n",
    "    a=x\n",
    "    b=y\n",
    "    juli=0\n",
    "    for i in range(len(a)):\n",
    "        for j in range(len(b)):\n",
    "            juli=euclidean(a[i],b[j])+juli\n",
    "    juli=np.sqrt(juli/(len(a)*len(b)))\n",
    "    return juli\n",
    "dist_matrix = np.mat(np.zeros((len(C), len(C))))\n",
    "for i in range(len(C)):\n",
    "    for j in range(len(C)):\n",
    "        dist_matrix[i,j]=make_juli(C[i],C[j])\n",
    "        if i==j:\n",
    "            dist_matrix[i,j]=0\n",
    "dist_matrix"
   ],
   "metadata": {
    "collapsed": false,
    "pycharm": {
     "name": "#%%\n"
    }
   }
  },
  {
   "cell_type": "code",
   "execution_count": null,
   "outputs": [],
   "source": [
    "X=[]\n",
    "for i in range(len(C)):\n",
    "    X.append(C[i].mean(axis=0))\n",
    "X=np.array(X)\n",
    "X.shape\n",
    "from sklearn.preprocessing import scale\n",
    "import numpy as np\n",
    "A=X\n",
    "from sklearn.cluster import KMeans\n",
    "TSSE=[]\n",
    "K=19\n",
    "for k in range(1,K+1):\n",
    "    SSE=[]\n",
    "    md=KMeans(n_clusters=k)\n",
    "    md.fit(A)\n",
    "    labels=md.labels_\n",
    "    centers=md.cluster_centers_\n",
    "    for label in set(labels):\n",
    "        SSE.append(np.sum((A[labels==label,:]-centers[label,:])**2))\n",
    "    TSSE.append(np.sum(SSE))\n",
    "plt.figure(2)\n",
    "plt.plot(range(1,K+1),TSSE,'b*-')\n",
    "plt.xlabel(\"count of cluster\")\n",
    "plt.ylabel(\"SSE in cluster\")\n",
    "plt.show()"
   ],
   "metadata": {
    "collapsed": false,
    "pycharm": {
     "name": "#%%\n"
    }
   }
  },
  {
   "cell_type": "code",
   "execution_count": null,
   "outputs": [],
   "source": [
    "import numpy as np\n",
    "from matplotlib import pyplot as plt\n",
    "from sklearn.cluster import AgglomerativeClustering\n",
    "from sklearn.metrics.pairwise import euclidean_distances\n",
    "import scipy.spatial.distance as dist\n",
    "from scipy.cluster.hierarchy import dendrogram, linkage\n",
    "model = AgglomerativeClustering(n_clusters=3, affinity='precomputed', linkage='average')\n",
    "clustering2 = model.fit(dist_matrix)\n",
    "centers=clustering2\n",
    "print(\"自定义距离矩阵聚类方式：\")\n",
    "print(\"每个数据所属的簇编号：\", clustering2.labels_)"
   ],
   "metadata": {
    "collapsed": false,
    "pycharm": {
     "name": "#%%\n"
    }
   }
  },
  {
   "cell_type": "code",
   "execution_count": null,
   "outputs": [],
   "source": [
    "window=np.array(window)\n",
    "window=pd.DataFrame(window)\n",
    "window['cluster']=list(clustering2.labels_)"
   ],
   "metadata": {
    "collapsed": false,
    "pycharm": {
     "name": "#%%\n"
    }
   }
  },
  {
   "cell_type": "code",
   "execution_count": null,
   "outputs": [],
   "source": [
    "window.to_csv(\"TempData/question5/time_window_after_war.csv\",encoding=\"utf-8\",index=False)\n"
   ],
   "metadata": {
    "collapsed": false,
    "pycharm": {
     "name": "#%%\n"
    }
   }
  }
 ],
 "metadata": {
  "kernelspec": {
   "name": "pycharm-1dac48b0",
   "language": "python",
   "display_name": "PyCharm (shiyan)"
  },
  "language_info": {
   "codemirror_mode": {
    "name": "ipython",
    "version": 2
   },
   "file_extension": ".py",
   "mimetype": "text/x-python",
   "name": "python",
   "nbconvert_exporter": "python",
   "pygments_lexer": "ipython2",
   "version": "2.7.6"
  }
 },
 "nbformat": 4,
 "nbformat_minor": 0
}
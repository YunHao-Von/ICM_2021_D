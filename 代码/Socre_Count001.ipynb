{
 "cells": [
  {
   "cell_type": "code",
   "execution_count": 42,
   "outputs": [],
   "source": [
    "import pandas as pd\n",
    "data=pd.read_csv(\"influence_data.csv\",encoding=\"utf-8\")\n",
    "Share={\n",
    "    'Pop/Rock':0.8080700725646852,\n",
    "    'R&B;':0.7882599580712788,\n",
    "    'Country':0.770320197044335,\n",
    "    'Jazz':0.8320790216368767,\n",
    "    'Electronic':0.33214285714285713,\n",
    "    'Vocal':0.6423444976076556,\n",
    "    'Reggae':0.7849462365591398,\n",
    "    'Latin':0.569620253164557,\n",
    "    'Folk':0.43851132686084143,\n",
    "    'Blues':0.7005649717514124,\n",
    "    'Religious':0.45722713864306785,\n",
    "    'International':0.31153846153846154,\n",
    "    'New Age':0.24352331606217617,\n",
    "    'Comedy/Spoken':0.6733333333333333,\n",
    "    'Stage & Screen':0.625,\n",
    "    'Classical':0.20987654320987653,\n",
    "    'Easy Listening':0.3333333333333333,\n",
    "    'Avant-Garde':0.1891891891891892,\n",
    "    'Unknown':0.0,\n",
    "    \"Children's\":0.3333333333333333\n",
    "}"
   ],
   "metadata": {
    "collapsed": false,
    "pycharm": {
     "name": "#%%\n"
    }
   }
  },
  {
   "cell_type": "code",
   "execution_count": 43,
   "outputs": [],
   "source": [
    "qishi=data['follower_id'].tolist()\n",
    "qishi=list(set(qishi))\n",
    "result=[]\n",
    "start=[]\n",
    "end=[]\n",
    "for id in qishi:\n",
    "    temp=data[data['follower_id']==id]#提取以当前id为起点的所有关系\n",
    "    type=temp.iloc[0,6]#得到当前id的类型\n",
    "    temp_2=temp[temp['influencer_main_genre']!=type]#提取和当前id不同类的关系\n",
    "    if(temp_2.empty==True):#如果不存在没有不同类的\n",
    "        total_year=temp['influencer_active_start'].tolist()\n",
    "        total_year=sum(total_year)\n",
    "        for i in range(temp.shape[0]):\n",
    "            score=1*temp.iloc[i,3]/total_year\n",
    "            start.append(id)\n",
    "            end.append(temp.iloc[i,0])\n",
    "            result.append(score)\n",
    "    else:\n",
    "        bilv=Share[type]\n",
    "        score_self=1*bilv\n",
    "        score_others=1-1*bilv\n",
    "        temp_1=temp[temp['influencer_main_genre']==type]\n",
    "        temp_2=temp[temp['influencer_main_genre']!=type]\n",
    "        total_year_1=temp_1['influencer_active_start'].tolist()\n",
    "        total_year_1=sum(total_year_1)\n",
    "        for i in range(temp_1.shape[0]):\n",
    "            score=score_self*temp_1.iloc[i,3]/total_year_1\n",
    "            start.append(id)\n",
    "            end.append(temp_1.iloc[i,0])\n",
    "            result.append(score)\n",
    "        total_year_2=temp_2['influencer_active_start'].tolist()\n",
    "        total_year_2=sum(total_year_2)\n",
    "        for i in range(temp_2.shape[0]):\n",
    "            score=score_others*temp_2.iloc[i,3]/total_year_2\n",
    "            start.append(id)\n",
    "            end.append(temp_2.iloc[i,0])\n",
    "            result.append(score)"
   ],
   "metadata": {
    "collapsed": false,
    "pycharm": {
     "name": "#%%\n"
    }
   }
  },
  {
   "cell_type": "code",
   "execution_count": 44,
   "outputs": [],
   "source": [
    "a={'start':start,\n",
    " 'end':end,\n",
    " 'score':result}\n",
    "final=pd.DataFrame(a)\n",
    "final.to_csv(\"Start_End_Score.csv\",index=False,encoding=\"utf-8\")"
   ],
   "metadata": {
    "collapsed": false,
    "pycharm": {
     "name": "#%%\n"
    }
   }
  },
  {
   "cell_type": "code",
   "execution_count": 54,
   "outputs": [],
   "source": [
    "import pandas as pd\n",
    "data=pd.read_csv(\"Start_End_Score.csv\",encoding=\"utf-8\")\n",
    "result=data.groupby('end')['score'].sum()"
   ],
   "metadata": {
    "collapsed": false,
    "pycharm": {
     "name": "#%%\n"
    }
   }
  },
  {
   "cell_type": "code",
   "execution_count": 61,
   "outputs": [
    {
     "name": "stdout",
     "output_type": "stream",
     "text": [
      "(3774, 1)\n"
     ]
    }
   ],
   "source": [
    "print(result.shape)\n",
    "result=pd.DataFrame(result)\n",
    "result.to_csv(\"First_question.csv\",encoding=\"utf-8\",index=True)"
   ],
   "metadata": {
    "collapsed": false,
    "pycharm": {
     "name": "#%%\n"
    }
   }
  }
 ],
 "metadata": {
  "kernelspec": {
   "name": "pycharm-1dac48b0",
   "language": "python",
   "display_name": "PyCharm (shiyan)"
  },
  "language_info": {
   "codemirror_mode": {
    "name": "ipython",
    "version": 2
   },
   "file_extension": ".py",
   "mimetype": "text/x-python",
   "name": "python",
   "nbconvert_exporter": "python",
   "pygments_lexer": "ipython2",
   "version": "2.7.6"
  }
 },
 "nbformat": 4,
 "nbformat_minor": 0
}
{
 "cells": [
  {
   "cell_type": "code",
   "execution_count": 55,
   "metadata": {
    "collapsed": true
   },
   "outputs": [],
   "source": [
    "import pandas as pd\n",
    "import networkx as nx\n",
    "import matplotlib.pyplot as plt\n",
    "from community.community_louvain import best_partition\n",
    "data=pd.read_csv(\"influence_data.csv\",encoding=\"utf-8\")"
   ]
  },
  {
   "cell_type": "code",
   "execution_count": 56,
   "outputs": [],
   "source": [
    "'''画网络图，这里不强调方向'''\n",
    "follower=data['follower_id'].tolist()\n",
    "influencer=data['influencer_id'].tolist()\n",
    "List=[]\n",
    "for i in range(len(follower)):\n",
    "    List.append((follower[i],influencer[i]))\n",
    "G=nx.Graph()\n",
    "nodes=list(set(follower+influencer))\n",
    "G.add_nodes_from(nodes)\n",
    "G.add_edges_from(List)\n",
    "# pos=nx.spring_layout(G)\n",
    "# plt.figure(figsize=(100,100))\n",
    "# nx.draw(G,pos,with_labels=False,font_weight='bold',node_color='yellowgreen',node_size=500,edge_color='thistle',linewidths=3.0)\n",
    "# plt.show()"
   ],
   "metadata": {
    "collapsed": false,
    "pycharm": {
     "name": "#%%\n"
    }
   }
  },
  {
   "cell_type": "code",
   "execution_count": 57,
   "outputs": [],
   "source": [
    "dict_fan={'Pop/Rock':1,'Country':2,'Classical':3,'Electronic':4,'Comedy/Spoken':5,\n",
    "'Easy Listening':6,'Reggae':7,'Jazz':8,'R&B;':9,'Latin':10,'Vocal':11,\n",
    "'Folk':12,'International':13,'Avant-Garde':14,'Blues':15,'Stage & Screen':16,'New Age':17,'Religious':18,\n",
    "\"Children's\":19,'Unknown':20}\n",
    "def get_label(x):\n",
    "    x=str(x)\n",
    "    return dict_fan[x]\n",
    "def get_count_of_type(want):\n",
    "    want=want\n",
    "    data=pd.read_csv(\"influence_data.csv\",encoding=\"utf-8\")\n",
    "    data[\"label1\"]=data[\"influencer_main_genre\"].apply(get_label)\n",
    "    data[\"label2\"]=data[\"follower_main_genre\"].apply(get_label)\n",
    "    want=data[(data['label1']==want)|(data['label2']==want)]\n",
    "    want_follower=want['follower_id'].tolist()\n",
    "    want_influencer=want['influencer_id'].tolist()\n",
    "    want_nodes=list(set(want_follower+want_influencer))\n",
    "    return want_nodes\n",
    "def compute_corr(want1,want2):\n",
    "    set1=set(get_count_of_type(want1))\n",
    "    set2=set(get_count_of_type(want2))\n",
    "    fenzi=len(list(set1.intersection(set2)))\n",
    "    fenmu=len(list(set1.union(set2)))\n",
    "    return fenzi/fenmu"
   ],
   "metadata": {
    "collapsed": false,
    "pycharm": {
     "name": "#%%\n"
    }
   }
  },
  {
   "cell_type": "code",
   "execution_count": 58,
   "outputs": [],
   "source": [
    "import numpy as np\n",
    "corr_matrix=np.zeros((20,20))\n",
    "for i in range(20):\n",
    "    for j in range(20):\n",
    "        corr_matrix[i,j]=compute_corr(i+1,j+1)"
   ],
   "metadata": {
    "collapsed": false,
    "pycharm": {
     "name": "#%%\n"
    }
   }
  },
  {
   "cell_type": "code",
   "execution_count": 59,
   "outputs": [
    {
     "data": {
      "text/plain": "<Figure size 360x360 with 2 Axes>",
      "image/png": "[encoded data removed]"
     },
     "metadata": {
      "needs_background": "light"
     },
     "output_type": "display_data"
    }
   ],
   "source": [
    "import seaborn as sns\n",
    "import matplotlib.pyplot as plt\n",
    "plt.figure(figsize=(5,5))\n",
    "sns.heatmap(corr_matrix,cmap='Wistia',annot=False)\n",
    "plt.savefig(\"Picture/corr.png\",dpi=500)"
   ],
   "metadata": {
    "collapsed": false,
    "pycharm": {
     "name": "#%%\n"
    }
   }
  },
  {
   "cell_type": "code",
   "execution_count": 60,
   "outputs": [],
   "source": [
    "result=pd.DataFrame(corr_matrix)\n",
    "result.to_csv(\"TempData/q3_corr.csv\",index=False)"
   ],
   "metadata": {
    "collapsed": false,
    "pycharm": {
     "name": "#%%\n"
    }
   }
  }
 ],
 "metadata": {
  "kernelspec": {
   "name": "pycharm-1dac48b0",
   "language": "python",
   "display_name": "PyCharm (shiyan)"
  },
  "language_info": {
   "codemirror_mode": {
    "name": "ipython",
    "version": 2
   },
   "file_extension": ".py",
   "mimetype": "text/x-python",
   "name": "python",
   "nbconvert_exporter": "python",
   "pygments_lexer": "ipython2",
   "version": "2.7.6"
  }
 },
 "nbformat": 4,
 "nbformat_minor": 0
}
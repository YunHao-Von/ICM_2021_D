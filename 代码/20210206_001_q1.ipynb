{
 "cells": [
  {
   "cell_type": "code",
   "execution_count": 1,
   "metadata": {
    "collapsed": true
   },
   "outputs": [],
   "source": [
    "'''第一问的代码'''\n",
    "import networkx as nx\n",
    "import pandas as pd\n",
    "origin_data = pd.read_csv(\"influence_data.csv\",encoding=\"utf-8\")\n",
    "Share={\n",
    "    'Pop/Rock':0.8080700725646852,\n",
    "    'R&B;':0.7882599580712788,\n",
    "    'Country':0.770320197044335,\n",
    "    'Jazz':0.8320790216368767,\n",
    "    'Electronic':0.33214285714285713,\n",
    "    'Vocal':0.6423444976076556,\n",
    "    'Reggae':0.7849462365591398,\n",
    "    'Latin':0.569620253164557,\n",
    "    'Folk':0.43851132686084143,\n",
    "    'Blues':0.7005649717514124,\n",
    "    'Religious':0.45722713864306785,\n",
    "    'International':0.31153846153846154,\n",
    "    'New Age':0.24352331606217617,\n",
    "    'Comedy/Spoken':0.6733333333333333,\n",
    "    'Stage & Screen':0.625,\n",
    "    'Classical':0.20987654320987653,\n",
    "    'Easy Listening':0.3333333333333333,\n",
    "    'Avant-Garde':0.1891891891891892,\n",
    "    'Unknown':0.0,\n",
    "    \"Children's\":0.3333333333333333\n",
    "}"
   ]
  },
  {
   "cell_type": "code",
   "execution_count": 2,
   "outputs": [],
   "source": [
    "frame_1=origin_data[['follower_main_genre','influencer_main_genre']]\n",
    "group_1=frame_1.groupby('follower_main_genre')\n",
    "dict_1={}\n",
    "for key,df in group_1:\n",
    "    dict_1[key]=df\n",
    "key = ['Pop/Rock', 'R&B;', 'Country', 'Jazz', 'Electronic', 'Vocal', 'Reggae', 'Latin', 'Folk', 'Blues',\n",
    "         'Religious', 'International', 'New Age', 'Comedy/Spoken', 'Stage & Screen', 'Classical', 'Easy Listening',\n",
    "         'Avant-Garde', 'Unknown', \"Children's\"]\n",
    "temp=dict_1['Pop/Rock']"
   ],
   "metadata": {
    "collapsed": false,
    "pycharm": {
     "name": "#%%\n"
    }
   }
  },
  {
   "cell_type": "code",
   "execution_count": 3,
   "outputs": [],
   "source": [
    "dict_2={}\n",
    "for temp_key in key:\n",
    "    temp=dict_1[temp_key]\n",
    "    total_sum=temp.shape[0]\n",
    "    temp_1=temp.groupby('influencer_main_genre').count()\n",
    "    temp_2=temp_1.apply(lambda x:x/total_sum,axis=1)\n",
    "    temp_start=temp_key\n",
    "    temp_end=list(temp_2.index.values)\n",
    "    corr=temp_2['follower_main_genre'].tolist()\n",
    "    for i in range(len(corr)):\n",
    "        dict_2[(temp_start,temp_end[i])]=corr[i]"
   ],
   "metadata": {
    "collapsed": false,
    "pycharm": {
     "name": "#%%\n"
    }
   }
  },
  {
   "cell_type": "code",
   "execution_count": 4,
   "outputs": [],
   "source": [
    "frame_2=origin_data[['follower_id','follower_main_genre','influencer_id','influencer_main_genre']]"
   ],
   "metadata": {
    "collapsed": false,
    "pycharm": {
     "name": "#%%\n"
    }
   }
  },
  {
   "cell_type": "code",
   "execution_count": 5,
   "outputs": [],
   "source": [
    "start=origin_data['influencer_id'].tolist()\n",
    "end=origin_data['follower_id'].tolist()\n",
    "pure_follower = list(set(end)-set(start))#纯粹的追随者（即不影响他人）\n",
    "# temp_frame_1=frame_2[frame_2['follower_id'].isin(pure_follower)]\n",
    "pure_influencer = list(set(start)-set(end))#纯粹的影响者（即不追随别人）\n",
    "mix_songer=list(set(start+end)-set(pure_follower)-set(pure_influencer))#既是追随者又是影响者\n",
    "pure_follower.sort()\n",
    "pure_influencer.sort()\n",
    "mix_songer.sort()"
   ],
   "metadata": {
    "collapsed": false,
    "pycharm": {
     "name": "#%%\n"
    }
   }
  },
  {
   "cell_type": "code",
   "execution_count": 6,
   "outputs": [],
   "source": [
    "'''计算纯影响者（三类艺术家）每人共影响人数'''\n",
    "temp_frame_1=frame_2[frame_2['influencer_id'].isin(pure_influencer)]\n",
    "temp_result1=pd.DataFrame(temp_frame_1.groupby('influencer_id')['follower_id'].count())\n",
    "id1=list(temp_result1.index.values)\n",
    "id_influence1=temp_result1['follower_id'].tolist()\n",
    "id_influence_dict1={}\n",
    "for i in range(len(id1)):\n",
    "    id_influence_dict1[str(id1[i])]=id_influence1[i]"
   ],
   "metadata": {
    "collapsed": false,
    "pycharm": {
     "name": "#%%\n"
    }
   }
  },
  {
   "cell_type": "code",
   "execution_count": 7,
   "outputs": [],
   "source": [
    "'''影响者同时追随者（二类艺术家） 每人共影响人数，'''\n",
    "temp_frame_2=frame_2[frame_2['influencer_id'].isin(mix_songer)]\n",
    "temp_result2=pd.DataFrame(temp_frame_2.groupby('influencer_id')['follower_id'].count())\n",
    "id=list(temp_result2.index.values)\n",
    "id_influence=temp_result2['follower_id'].tolist()\n",
    "id_influence_dict={}\n",
    "for i in range(len(id)):\n",
    "    id_influence_dict[str(id[i])]=id_influence[i]"
   ],
   "metadata": {
    "collapsed": false,
    "pycharm": {
     "name": "#%%\n"
    }
   }
  },
  {
   "cell_type": "code",
   "execution_count": 8,
   "outputs": [],
   "source": [
    "'''计算每年影响多少人'''\n",
    "temp_frame_3=origin_data[['influencer_active_start','follower_id']]\n",
    "temp_result3=pd.DataFrame(temp_frame_3.groupby('influencer_active_start')['follower_id'].count())\n",
    "year=list(temp_result3.index.values)\n",
    "year_influence=temp_result3['follower_id'].tolist()\n",
    "influence_dict={}\n",
    "for i in range(len(year)):\n",
    "    influence_dict[str(year[i])]=year_influence[i]"
   ],
   "metadata": {
    "collapsed": false,
    "pycharm": {
     "name": "#%%\n"
    }
   }
  },
  {
   "cell_type": "code",
   "execution_count": 9,
   "outputs": [],
   "source": [
    "'''计算每人能投出多少票'''\n",
    "#对于纯追随者（一类艺术家）：\n",
    "score1=1/len(pure_follower)\n",
    "dict1={}\n",
    "for i in pure_follower:\n",
    "    dict1[str(i)]=score1\n",
    "'''对于 影响者同时追随者（二类艺术家）'''\n",
    "temp_frame_4=origin_data[['influencer_id','influencer_active_start']]\n",
    "temp_frame_4=temp_frame_4[temp_frame_4['influencer_id'].isin(mix_songer)]\n",
    "temp_frame_5=temp_frame_4.drop_duplicates(subset=['influencer_id','influencer_active_start'], keep='first')\n",
    "mix_dict={}\n",
    "for i in range(temp_frame_5.shape[0]):\n",
    "    temp_id=str(temp_frame_5.iloc[i,0])\n",
    "    temp_year=str(temp_frame_5.iloc[i,1])\n",
    "    person_influence=id_influence_dict[temp_id]\n",
    "    jubu_yaer=influence_dict[temp_year]\n",
    "    zhi=person_influence/jubu_yaer\n",
    "    mix_dict[temp_id]=zhi"
   ],
   "metadata": {
    "collapsed": false,
    "pycharm": {
     "name": "#%%\n"
    }
   }
  },
  {
   "cell_type": "code",
   "execution_count": 10,
   "outputs": [],
   "source": [
    "new_dict=id_influence_dict1\n",
    "new_dict.update(id_influence_dict)\n",
    "score_dict=dict1\n",
    "score_dict.update(mix_dict)\n",
    "new_data=pd.read_csv('TempData/influence.csv',encoding=\"ANSI\")"
   ],
   "metadata": {
    "collapsed": false,
    "pycharm": {
     "name": "#%%\n"
    }
   }
  },
  {
   "cell_type": "code",
   "execution_count": 11,
   "outputs": [],
   "source": [
    "fenzhi1=new_data[new_data['follower_id'].isin(pure_follower)]\n",
    "d=fenzhi1.groupby(['follower_id','Same'])['influencer_count'].sum()\n",
    "d=pd.DataFrame(d)\n",
    "d.columns=['total_people']\n",
    "d.to_csv(\"TempData/temp02.csv\",encoding=\"utf-8\")"
   ],
   "metadata": {
    "collapsed": false,
    "pycharm": {
     "name": "#%%\n"
    }
   }
  },
  {
   "cell_type": "code",
   "execution_count": 12,
   "outputs": [],
   "source": [
    "d=pd.read_csv(\"TempData/temp02.csv\",encoding='utf-8')\n",
    "new_pure=pd.merge(fenzhi1,d,on=['follower_id','Same'],how='inner')\n",
    "new_pure.to_csv(\"TempData/temp03.csv\",encoding='utf-8',index=False)"
   ],
   "metadata": {
    "collapsed": false,
    "pycharm": {
     "name": "#%%\n"
    }
   }
  },
  {
   "cell_type": "code",
   "execution_count": 13,
   "outputs": [
    {
     "name": "stdout",
     "output_type": "stream",
     "text": [
      "9928\n"
     ]
    }
   ],
   "source": [
    "result={}\n",
    "group=new_pure.groupby('follower_id')\n",
    "for id,data in group:\n",
    "    id=str(id)\n",
    "    type = str(data.iloc[0,6])\n",
    "    total_score=score_dict[id]\n",
    "    bilv=Share[type]\n",
    "    for i in range(data.shape[0]):\n",
    "        end=str(data.iloc[i,0])\n",
    "        start=str(data.iloc[i,4])\n",
    "        same=str(data.iloc[i,9])\n",
    "        fenyingxiang=data.iloc[i,8]\n",
    "        zongyingxiang=data.iloc[i,10]\n",
    "        if (same=='True'):\n",
    "            score=total_score*bilv*fenyingxiang/zongyingxiang\n",
    "        result[(start,end)]=score\n",
    "print(len(result))"
   ],
   "metadata": {
    "collapsed": false,
    "pycharm": {
     "name": "#%%\n"
    }
   }
  },
  {
   "cell_type": "code",
   "execution_count": 14,
   "outputs": [],
   "source": [
    "'''最后一部分'''\n",
    "fenzhi2=new_data[new_data['follower_id'].isin(mix_songer)]\n",
    "e=fenzhi2.groupby(['follower_id','Same'])['influencer_count'].sum()\n",
    "e=pd.DataFrame(e)\n",
    "e.columns=['total_people']\n",
    "e.to_csv(\"TempData/temp04.csv\",encoding=\"utf-8\")"
   ],
   "metadata": {
    "collapsed": false,
    "pycharm": {
     "name": "#%%\n"
    }
   }
  },
  {
   "cell_type": "code",
   "execution_count": 15,
   "outputs": [],
   "source": [
    "e=pd.read_csv(\"TempData/temp04.csv\",encoding='utf-8')\n",
    "new_pure2=pd.merge(fenzhi2,e,on=['follower_id','Same'],how='inner')\n",
    "new_pure2.to_csv(\"TempData/temp05.csv\",encoding='utf-8',index=False)"
   ],
   "metadata": {
    "collapsed": false,
    "pycharm": {
     "name": "#%%\n"
    }
   }
  },
  {
   "cell_type": "code",
   "execution_count": 16,
   "outputs": [
    {
     "name": "stdout",
     "output_type": "stream",
     "text": [
      "32842\n"
     ]
    }
   ],
   "source": [
    "result2={}\n",
    "group2=new_pure2.groupby('follower_id')\n",
    "for id,data in group2:\n",
    "    id=str(id)\n",
    "    type = str(data.iloc[0,6])\n",
    "    total_score=score_dict[id]\n",
    "    bilv=Share[type]\n",
    "    for i in range(data.shape[0]):\n",
    "        end=str(data.iloc[i,0])\n",
    "        start=str(data.iloc[i,4])\n",
    "        same=str(data.iloc[i,9])\n",
    "        fenyingxiang=data.iloc[i,8]\n",
    "        zongyingxiang=data.iloc[i,10]\n",
    "        if (same=='True'):\n",
    "            score=total_score*bilv*fenyingxiang/zongyingxiang\n",
    "        result2[(start,end)]=score\n",
    "print(len(result2))"
   ],
   "metadata": {
    "collapsed": false,
    "pycharm": {
     "name": "#%%\n"
    }
   }
  },
  {
   "cell_type": "code",
   "execution_count": 17,
   "outputs": [
    {
     "name": "stdout",
     "output_type": "stream",
     "text": [
      "42770\n"
     ]
    }
   ],
   "source": [
    "result.update(result2)\n",
    "print(len(result))"
   ],
   "metadata": {
    "collapsed": false,
    "pycharm": {
     "name": "#%%\n"
    }
   }
  },
  {
   "cell_type": "code",
   "execution_count": 18,
   "outputs": [],
   "source": [
    "temp=list(result.keys())\n",
    "start=[]\n",
    "end=[]\n",
    "for i in range(len(temp)):\n",
    "    st,en=temp[i]\n",
    "    start.append(st)\n",
    "    end.append(en)\n",
    "score=list(result.values())\n",
    "final=pd.DataFrame({\n",
    "    'start':start,\n",
    "    'end':end,\n",
    "    'score':score\n",
    "})\n",
    "final.to_csv(\"TempData/first_question.csv\",encoding='utf-8',index=False)"
   ],
   "metadata": {
    "collapsed": false,
    "pycharm": {
     "name": "#%%\n"
    }
   }
  },
  {
   "cell_type": "code",
   "execution_count": 19,
   "outputs": [],
   "source": [
    "chuli=final.groupby('end')['score'].sum()\n",
    "chuli=pd.DataFrame(chuli)\n",
    "chuli.to_csv(\"TempData/first_sort.csv\",encoding=\"utf-8\")"
   ],
   "metadata": {
    "collapsed": false,
    "pycharm": {
     "name": "#%%\n"
    }
   }
  }
 ],
 "metadata": {
  "kernelspec": {
   "name": "pycharm-1dac48b0",
   "language": "python",
   "display_name": "PyCharm (shiyan)"
  },
  "language_info": {
   "codemirror_mode": {
    "name": "ipython",
    "version": 2
   },
   "file_extension": ".py",
   "mimetype": "text/x-python",
   "name": "python",
   "nbconvert_exporter": "python",
   "pygments_lexer": "ipython2",
   "version": "2.7.6"
  }
 },
 "nbformat": 4,
 "nbformat_minor": 0
}
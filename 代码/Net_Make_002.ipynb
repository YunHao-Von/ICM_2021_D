{
 "cells": [
  {
   "cell_type": "code",
   "execution_count": 1,
   "metadata": {
    "collapsed": true
   },
   "outputs": [],
   "source": [
    "import networkx as nx\n",
    "import pandas as pd\n",
    "import matplotlib.pyplot as plt\n",
    "influence_data = pd.read_csv(\"influence_data.csv\",encoding=\"utf-8\")"
   ]
  },
  {
   "cell_type": "code",
   "execution_count": 2,
   "outputs": [],
   "source": [
    "#构建完全的网络图\n",
    "jubu = influence_data\n",
    "edges=[]\n",
    "for i in range(jubu.shape[0]):\n",
    "    influencer=jubu.iloc[i,0]\n",
    "    follower=jubu.iloc[i,4]\n",
    "    edges.append((follower,influencer))\n",
    "start=jubu['influencer_id'].tolist()\n",
    "end=jubu['follower_id'].tolist()\n",
    "nodes=start+end\n",
    "nodes=list(set(nodes))#得出点的集合\n",
    "G=nx.DiGraph()\n",
    "G.add_nodes_from(nodes)\n",
    "G.add_edges_from(edges)\n",
    "Adjacency_Matrix=nx.to_numpy_matrix(G)#得出邻接矩阵"
   ],
   "metadata": {
    "collapsed": false,
    "pycharm": {
     "name": "#%%\n"
    }
   }
  },
  {
   "cell_type": "code",
   "execution_count": 3,
   "outputs": [],
   "source": [
    "start=influence_data['influencer_id'].tolist()\n",
    "end=influence_data['follower_id'].tolist()\n",
    "pure_follower = list(set(end)-set(start))#纯粹的追随者（即不影响他人）\n",
    "pure_influencer = list(set(start)-set(end))#纯粹的影响者（即不追随别人）"
   ],
   "metadata": {
    "collapsed": false,
    "pycharm": {
     "name": "#%%\n"
    }
   }
  },
  {
   "cell_type": "code",
   "execution_count": 9,
   "outputs": [
    {
     "name": "stdout",
     "output_type": "stream",
     "text": [
      "124\n"
     ]
    }
   ],
   "source": [
    "original_data=pd.read_csv(\"influence_data.csv\",encoding=\"utf-8\")\n",
    "pop_all=original_data[original_data['influencer_main_genre']=='Pop/Rock']\n",
    "start=pop_all['influencer_id'].tolist()\n",
    "end=original_data['follower_id'].tolist()\n",
    "pop_pure_influencer = list(set(start)-set(end))\n",
    "print(len(pop_pure_influencer))"
   ],
   "metadata": {
    "collapsed": false,
    "pycharm": {
     "name": "#%%\n"
    }
   }
  },
  {
   "cell_type": "code",
   "execution_count": 3,
   "outputs": [],
   "source": [],
   "metadata": {
    "collapsed": false,
    "pycharm": {
     "name": "#%%\n"
    }
   }
  }
 ],
 "metadata": {
  "kernelspec": {
   "name": "pycharm-1dac48b0",
   "language": "python",
   "display_name": "PyCharm (shiyan)"
  },
  "language_info": {
   "codemirror_mode": {
    "name": "ipython",
    "version": 2
   },
   "file_extension": ".py",
   "mimetype": "text/x-python",
   "name": "python",
   "nbconvert_exporter": "python",
   "pygments_lexer": "ipython2",
   "version": "2.7.6"
  }
 },
 "nbformat": 4,
 "nbformat_minor": 0
}
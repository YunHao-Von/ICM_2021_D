{
 "cells": [
  {
   "cell_type": "code",
   "execution_count": 1,
   "metadata": {
    "collapsed": true
   },
   "outputs": [],
   "source": [
    "import pandas as pd\n",
    "import numpy as np\n",
    "from sklearn.model_selection import train_test_split\n",
    "import numpy as np\n",
    "import pandas as pd\n",
    "import xgboost as xgb\n",
    "from sklearn.model_selection import GridSearchCV\n",
    "Share={\n",
    "    'Pop/Rock':0,\n",
    "    'R&B;':1,\n",
    "    'Country':2,\n",
    "    'Jazz':3,\n",
    "    'Electronic':4,\n",
    "    'Vocal':5,\n",
    "    'Reggae':6,\n",
    "    'Latin':7,\n",
    "    'Folk':8,\n",
    "    'Blues':9,\n",
    "    'Religious':10,\n",
    "    'International':11,\n",
    "    'New Age':12,\n",
    "    'Comedy/Spoken':13,\n",
    "    'Stage & Screen':14,\n",
    "    'Classical':15,\n",
    "    'Easy Listening':16,\n",
    "    'Avant-Garde':17,\n",
    "    'Unknown':18,\n",
    "    \"Children's\":19\n",
    "}\n",
    "def get_label(x):\n",
    "    x=str(x)\n",
    "    return Share[x]\n",
    "data=pd.read_csv(\"TempData/q2new_data.csv\",encoding=\"utf-8\")\n",
    "data[\"label\"]=data[\"type\"].apply(get_label)\n",
    "data=data.drop(columns=['type'])"
   ]
  },
  {
   "cell_type": "code",
   "execution_count": 2,
   "outputs": [],
   "source": [
    "#查看是否有空值 data.info(verbose=True,null_counts=True)\n",
    "y=data[['label']]\n",
    "X=data.drop(columns=['label'])\n",
    "X_train, X_test, y_train, y_test = train_test_split(X,y,test_size=0.2,random_state=7)\n",
    "# train, test = train_test_split(data,test_size=0.2,random_state=7)\n",
    "# feature_name = [x for x in train.columns if x not in ['label']]\n",
    "# dtrain = xgb.DMatrix(train[feature_name],label=train['label'])\n",
    "# dtest = xgb.DMatrix(test[feature_name],label=test['label'])"
   ],
   "metadata": {
    "collapsed": false,
    "pycharm": {
     "name": "#%%\n"
    }
   }
  },
  {
   "cell_type": "code",
   "execution_count": 3,
   "outputs": [
    {
     "name": "stderr",
     "output_type": "stream",
     "text": [
      "F:\\Anaconda3\\lib\\site-packages\\xgboost\\core.py:416: FutureWarning: Pass `objective` as keyword args.  Passing these as positional arguments will be considered as error in future releases.\n",
      "  warnings.warn(\n",
      "F:\\Anaconda3\\lib\\site-packages\\sklearn\\model_selection\\_split.py:670: UserWarning: The least populated class in y has only 3 members, which is less than n_splits=5.\n",
      "  warnings.warn((\"The least populated class in y has only %d\"\n",
      "[Parallel(n_jobs=4)]: Using backend LokyBackend with 4 concurrent workers.\n",
      "[Parallel(n_jobs=4)]: Done   5 out of   5 | elapsed:   30.7s finished\n",
      "F:\\Anaconda3\\lib\\site-packages\\xgboost\\sklearn.py:888: UserWarning: The use of label encoder in XGBClassifier is deprecated and will be removed in a future release. To remove this warning, do the following: 1) Pass option use_label_encoder=False when constructing XGBClassifier object; and 2) Encode your labels (y) as integers starting with 0, i.e. 0, 1, 2, ..., [num_class - 1].\n",
      "  warnings.warn(label_encoder_deprecation_msg, UserWarning)\n",
      "F:\\Anaconda3\\lib\\site-packages\\sklearn\\utils\\validation.py:73: DataConversionWarning: A column-vector y was passed when a 1d array was expected. Please change the shape of y to (n_samples, ), for example using ravel().\n",
      "  return f(**kwargs)\n"
     ]
    },
    {
     "name": "stdout",
     "output_type": "stream",
     "text": [
      "Fitting 5 folds for each of 1 candidates, totalling 5 fits\n",
      "[02:57:12] WARNING: C:/Users/Administrator/workspace/xgboost-win64_release_1.3.0/src/learner.cc:1061: Starting in XGBoost 1.3.0, the default evaluation metric used with the objective 'multi:softprob' was changed from 'merror' to 'mlogloss'. Explicitly set eval_metric if you'd like to restore the old behavior.\n",
      "Best: 0.069466 using {'eta': 0.007, 'gamma': 0.1, 'max_depth': 10}\n"
     ]
    }
   ],
   "source": [
    "#自定义参数\n",
    "params = {\n",
    "    'booster': 'gbtree',\n",
    "    'objective': 'multi:softmax',  # 多分类的问题\n",
    "    'num_class': 20,               # 类别数，与 multisoftmax 并用\n",
    "    'lambda': 2,                   # 控制模型复杂度的权重值的L2正则化项参数，参数越大，模型越不容易过拟合。\n",
    "    'subsample': 0.7,              # 随机采样训练样本\n",
    "    'colsample_bytree': 0.7,       # 生成树时进行的列采样\n",
    "    'min_child_weight': 3,\n",
    "    'silent': 1,                   # 设置成1则没有运行信息输出，最好是设置为0.                # 如同学习率\n",
    "    'seed': 921,\n",
    "    'nthread': 4,\n",
    "    'eval_metric':'merror'# cpu 线程数\n",
    "}\n",
    "vary_params={\n",
    "    'eta': [0.007],\n",
    "    'max_depth': [10],# 构建树的深度，越大越容易过拟合\n",
    "    'gamma': [0.1],                 # 用于控制是否后剪枝的参数,越大越保守，一般0.1、0.2这样子。\n",
    "}\n",
    "model=xgb.XGBClassifier(params)\n",
    "optimized_GBM = GridSearchCV(estimator=model, param_grid=vary_params, scoring='r2', cv=5, verbose=1, n_jobs=4)\n",
    "grid_search = optimized_GBM.fit(X_train,y_train)\n",
    "print(\"Best: %f using %s\" % (grid_search.best_score_, grid_search.best_params_))"
   ],
   "metadata": {
    "collapsed": false,
    "pycharm": {
     "name": "#%%\n"
    }
   }
  },
  {
   "cell_type": "code",
   "execution_count": 17,
   "outputs": [
    {
     "data": {
      "text/plain": "<Figure size 432x288 with 1 Axes>",
      "image/png": "[encoded data removed]"
     },
     "metadata": {
      "needs_background": "light"
     },
     "output_type": "display_data"
    }
   ],
   "source": [
    "droped = [0.59, 0.55]\n",
    "nodrop = [0.57,0.53]\n",
    "labels =[\"data(origin)\",\"data(droped)\",'principal component(origin)','principal component(droped)']\n",
    "import pandas as pd\n",
    "import matplotlib.pyplot as plt\n",
    "x=[1,2]\n",
    "plt.figure()\n",
    "plt.bar(x,droped,width=0.05,label='droped')\n",
    "plt.bar([1.05,2.05],nodrop,width=0.05,label='nodrop')\n",
    "plt.legend()\n",
    "plt.grid(True)"
   ],
   "metadata": {
    "collapsed": false,
    "pycharm": {
     "name": "#%%\n"
    }
   }
  }
 ],
 "metadata": {
  "kernelspec": {
   "name": "pycharm-1dac48b0",
   "language": "python",
   "display_name": "PyCharm (shiyan)"
  },
  "language_info": {
   "codemirror_mode": {
    "name": "ipython",
    "version": 2
   },
   "file_extension": ".py",
   "mimetype": "text/x-python",
   "name": "python",
   "nbconvert_exporter": "python",
   "pygments_lexer": "ipython2",
   "version": "2.7.6"
  }
 },
 "nbformat": 4,
 "nbformat_minor": 0
}
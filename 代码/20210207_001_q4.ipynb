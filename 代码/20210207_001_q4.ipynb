{
 "cells": [
  {
   "cell_type": "code",
   "execution_count": 14,
   "metadata": {
    "collapsed": true,
    "pycharm": {
     "name": "#%%\n"
    }
   },
   "outputs": [],
   "source": [
    "'''数据清洗'''\n",
    "import pandas as pd\n",
    "import re\n",
    "data=pd.read_csv(\"full_music_data.csv\",encoding=\"utf-8\")"
   ]
  },
  {
   "cell_type": "code",
   "execution_count": 27,
   "outputs": [
    {
     "data": {
      "text/plain": "1     93930\n2      3967\n3       306\n4        69\n5        44\n6        15\n28        1\n17        1\n16        1\n13        1\n11        1\n10        1\n9         1\n8         1\n7         1\nName: id_count, dtype: int64"
     },
     "execution_count": 27,
     "metadata": {},
     "output_type": "execute_result"
    }
   ],
   "source": [
    "id_count=[]#计算每一行有几个id\n",
    "for i in range(0,data.shape[0]):\n",
    "    multiple_id=data.iloc[i,1]\n",
    "    pattern = re.compile(r'\\d+')\n",
    "    res = re.findall(pattern, multiple_id)\n",
    "    count = len(res)\n",
    "    id_count.append(count)\n",
    "data['id_count']=id_count\n",
    "data['id_count'].value_counts()"
   ],
   "metadata": {
    "collapsed": false,
    "pycharm": {
     "name": "#%%\n"
    }
   }
  },
  {
   "cell_type": "code",
   "execution_count": null,
   "outputs": [],
   "source": [
    "'''处理单人唱的歌'''\n",
    "single_data=data[data['id_count']==1]\n",
    "new_id=[]\n",
    "for i in range(0,single_data.shape[0]):\n",
    "    single_id = single_data.iloc[i,1]\n",
    "    pattern = re.compile(r'\\d+')\n",
    "    res = re.findall(pattern, single_id)\n",
    "    single_id = res[0]\n",
    "    new_id.append(single_id)\n",
    "single_data['new_id']=new_id"
   ],
   "metadata": {
    "collapsed": false,
    "pycharm": {
     "name": "#%%\n"
    }
   }
  },
  {
   "cell_type": "code",
   "execution_count": 70,
   "outputs": [
    {
     "name": "stderr",
     "output_type": "stream",
     "text": [
      "<ipython-input-70-48a87138db19>:11: SettingWithCopyWarning: \n",
      "A value is trying to be set on a copy of a slice from a DataFrame.\n",
      "Try using .loc[row_indexer,col_indexer] = value instead\n",
      "\n",
      "See the caveats in the documentation: https://pandas.pydata.org/pandas-docs/stable/user_guide/indexing.html#returning-a-view-versus-a-copy\n",
      "  multiple_data['spilt']=spilt\n"
     ]
    }
   ],
   "source": [
    "multiple_data=data[data['id_count']!=1]\n",
    "spilt=[]\n",
    "for i in range(0,multiple_data.shape[0]):\n",
    "    multiple_id = multiple_data.iloc[i,1]\n",
    "    pattern = re.compile(r'\\d+')\n",
    "    res=re.findall(pattern,multiple_id)\n",
    "    jubu_spilt=str(res[0])\n",
    "    for j in range(1,len(res)):\n",
    "        jubu_spilt=jubu_spilt+\"|\"+str(res[j])\n",
    "    spilt.append(jubu_spilt)\n",
    "multiple_data['spilt']=spilt\n",
    "multiple_data.to_csv(\"TempData/temp08.csv\",encoding=\"utf-8\",index=False)"
   ],
   "metadata": {
    "collapsed": false,
    "pycharm": {
     "name": "#%%\n"
    }
   }
  },
  {
   "cell_type": "code",
   "execution_count": 91,
   "outputs": [],
   "source": [
    "multiple_data=pd.read_csv(\"TempData/temp08.csv\",encoding=\"utf-8\")\n",
    "tempdf=multiple_data['spilt'].str.split('|',expand=True).stack()\n",
    "tempdf=tempdf.reset_index(level=1,drop=True).rename('new_id')\n",
    "multiple_data=multiple_data.join(tempdf)"
   ],
   "metadata": {
    "collapsed": false,
    "pycharm": {
     "name": "#%%\n"
    }
   }
  },
  {
   "cell_type": "code",
   "execution_count": 92,
   "outputs": [
    {
     "name": "stdout",
     "output_type": "stream",
     "text": [
      "['artist_names', 'artists_id', 'danceability', 'energy', 'valence', 'tempo', 'loudness', 'mode', 'key', 'acousticness', 'instrumentalness', 'liveness', 'speechiness', 'explicit', 'duration_ms', 'popularity', 'year', 'release_date', 'song_title (censored)', 'id_count', 'new_id']\n",
      "['artist_names', 'artists_id', 'danceability', 'energy', 'valence', 'tempo', 'loudness', 'mode', 'key', 'acousticness', 'instrumentalness', 'liveness', 'speechiness', 'explicit', 'duration_ms', 'popularity', 'year', 'release_date', 'song_title (censored)', 'id_count', 'new_id']\n"
     ]
    }
   ],
   "source": [
    "multiple_data=multiple_data.drop(columns=['spilt'])\n",
    "print(list(multiple_data))\n",
    "print(list(single_data))\n",
    "multiple_data.to_csv(\"TempData/temp08.csv\",encoding=\"utf-8\",index=False)\n",
    "single_data.to_csv(\"TempData/temp09.csv\",encoding=\"utf-8\",index=False)"
   ],
   "metadata": {
    "collapsed": false,
    "pycharm": {
     "name": "#%%\n"
    }
   }
  },
  {
   "cell_type": "code",
   "execution_count": 96,
   "outputs": [
    {
     "name": "stdout",
     "output_type": "stream",
     "text": [
      "103487\n"
     ]
    }
   ],
   "source": [
    "multiple_data=pd.read_csv(\"TempData/temp08.csv\",encoding=\"utf-8\")\n",
    "single_data=pd.read_csv(\"TempData/temp09.csv\",encoding=\"utf-8\")\n",
    "final_clean = pd.concat([single_data, multiple_data], axis=0)\n",
    "print(final_clean.shape[0])\n",
    "final_clean.to_csv(\"TempData/q3_cleaned_data.csv\",encoding='utf-8',index=False)"
   ],
   "metadata": {
    "collapsed": false,
    "pycharm": {
     "name": "#%%\n"
    }
   }
  },
  {
   "cell_type": "code",
   "execution_count": 100,
   "outputs": [],
   "source": [
    "final_clean=pd.read_csv(\"TempData/q3_cleaned_data.csv\",encoding=\"utf-8\")\n",
    "type_data=pd.read_csv(\"TempData/q2new_data.csv\",encoding=\"utf-8\")[['artist_id','type']]\n",
    "new_data=pd.merge(final_clean,type_data,left_on='new_id',right_on='artist_id',how='inner')\n",
    "new_data.to_csv(\"TempData/q3_cleaned_withtype_data.csv\",encoding='utf-8',index=False)"
   ],
   "metadata": {
    "collapsed": false,
    "pycharm": {
     "name": "#%%\n"
    }
   }
  },
  {
   "cell_type": "code",
   "execution_count": 104,
   "outputs": [
    {
     "name": "stdout",
     "output_type": "stream",
     "text": [
      "<class 'pandas.core.frame.DataFrame'>\n",
      "RangeIndex: 101645 entries, 0 to 101644\n",
      "Data columns (total 13 columns):\n",
      " #   Column            Non-Null Count   Dtype  \n",
      "---  ------            --------------   -----  \n",
      " 0   new_id            101645 non-null  int64  \n",
      " 1   type              101645 non-null  int64  \n",
      " 2   year              101645 non-null  int64  \n",
      " 3   danceability      101645 non-null  float64\n",
      " 4   energy            101645 non-null  float64\n",
      " 5   valence           101645 non-null  float64\n",
      " 6   tempo             101645 non-null  float64\n",
      " 7   loudness          101645 non-null  float64\n",
      " 8   acousticness      101645 non-null  float64\n",
      " 9   instrumentalness  101645 non-null  float64\n",
      " 10  speechiness       101645 non-null  float64\n",
      " 11  duration_ms       101645 non-null  int64  \n",
      " 12  popularity        101645 non-null  int64  \n",
      "dtypes: float64(8), int64(5)\n",
      "memory usage: 10.1 MB\n"
     ]
    }
   ],
   "source": [
    "import pandas as pd\n",
    "time_origin=pd.read_csv(\"TempData/q3_Time_origin.csv\",encoding='utf-8')\n",
    "time_origin.info(verbose=True,null_counts=True)"
   ],
   "metadata": {
    "collapsed": false,
    "pycharm": {
     "name": "#%%\n"
    }
   }
  },
  {
   "cell_type": "code",
   "execution_count": 125,
   "outputs": [
    {
     "name": "stdout",
     "output_type": "stream",
     "text": [
      "1\n",
      "2\n",
      "3\n",
      "4\n",
      "5\n",
      "6\n",
      "7\n",
      "8\n",
      "9\n",
      "10\n",
      "11\n",
      "12\n",
      "13\n",
      "14\n",
      "15\n",
      "16\n",
      "17\n",
      "18\n",
      "19\n",
      "20\n"
     ]
    }
   ],
   "source": [
    "group1=time_origin.groupby(['type'])\n",
    "type_data={}\n",
    "data=[]\n",
    "for a,b in group1:\n",
    "    print(a)\n",
    "    group2=b.groupby(['year'])[['danceability','energy','valence','tempo','loudness','acousticness','instrumentalness','speechiness','duration_ms','popularity']].mean()\n",
    "    group2.to_csv(\"TempData/Type_Year/type\"+str(a)+\".csv\",encoding='utf-8',index=True)\n",
    "    data.append(group2)\n",
    "    type_data[str(a)]=group2\n",
    "final_clean = pd.concat(data, axis=0)"
   ],
   "metadata": {
    "collapsed": false,
    "pycharm": {
     "name": "#%%\n"
    }
   }
  },
  {
   "cell_type": "code",
   "execution_count": 126,
   "outputs": [],
   "source": [
    "final_clean.to_csv(\"TempData/Type_Year/all.csv\",encoding='utf-8',index=True)"
   ],
   "metadata": {
    "collapsed": false,
    "pycharm": {
     "name": "#%%\n"
    }
   }
  },
  {
   "cell_type": "code",
   "execution_count": 158,
   "outputs": [
    {
     "data": {
      "text/plain": "<matplotlib.collections.PathCollection at 0x1fd4b587790>"
     },
     "execution_count": 158,
     "metadata": {},
     "output_type": "execute_result"
    },
    {
     "data": {
      "text/plain": "<Figure size 432x288 with 1 Axes>",
      "image/png": "[encoded data removed]"
     },
     "metadata": {
      "needs_background": "light"
     },
     "output_type": "display_data"
    }
   ],
   "source": [
    "'''type1:就是派系1平均每年的变化情况'''\n",
    "import matplotlib.pyplot as plt\n",
    "plot_data1=pd.read_csv(\"TempData/Type_Year/type1.csv\",encoding=\"utf-8\")\n",
    "x=plot_data1['year'].tolist()\n",
    "y=plot_data1['instrumentalness'].tolist()\n",
    "plt.plot(x,y,'b-')\n",
    "plt.scatter(x,y,color='red')"
   ],
   "metadata": {
    "collapsed": false,
    "pycharm": {
     "name": "#%%\n"
    }
   }
  },
  {
   "cell_type": "code",
   "execution_count": 163,
   "outputs": [
    {
     "data": {
      "text/plain": "<Figure size 432x288 with 1 Axes>",
      "image/png": "[encoded data removed]"
     },
     "metadata": {
      "needs_background": "light"
     },
     "output_type": "display_data"
    }
   ],
   "source": [
    "from sklearn.preprocessing import scale\n",
    "import numpy as np\n",
    "x=plot_data1.drop(columns=['year'])\n",
    "x=scale(x)\n",
    "A=x\n",
    "from sklearn.cluster import KMeans\n",
    "TSSE=[]\n",
    "K=19\n",
    "for k in range(1,K+1):\n",
    "    SSE=[]\n",
    "    md=KMeans(n_clusters=k)\n",
    "    md.fit(A)\n",
    "    labels=md.labels_\n",
    "    centers=md.cluster_centers_\n",
    "    for label in set(labels):\n",
    "        SSE.append(np.sum((A[labels==label,:]-centers[label,:])**2))\n",
    "    TSSE.append(np.sum(SSE))\n",
    "plt.figure(2)\n",
    "plt.style.use('ggplot')\n",
    "plt.plot(range(1,K+1),TSSE,'b*-')\n",
    "plt.plot(5,TSSE[4],'r*')\n",
    "plt.xlabel(\"count of cluster\")\n",
    "plt.ylabel(\"SSE in cluster\")\n",
    "plt.show()"
   ],
   "metadata": {
    "collapsed": false,
    "pycharm": {
     "name": "#%%\n"
    }
   }
  },
  {
   "cell_type": "code",
   "execution_count": 165,
   "outputs": [
    {
     "data": {
      "text/plain": "[<matplotlib.lines.Line2D at 0x1fd4fbd5b20>]"
     },
     "execution_count": 165,
     "metadata": {},
     "output_type": "execute_result"
    },
    {
     "data": {
      "text/plain": "<Figure size 432x288 with 1 Axes>",
      "image/png": "[encoded data removed]"
     },
     "metadata": {},
     "output_type": "display_data"
    }
   ],
   "source": [
    "from sklearn import metrics\n",
    "S=[]\n",
    "X=A\n",
    "for k in range(2,K+1):\n",
    "    md=KMeans(k)\n",
    "    md.fit(A)\n",
    "    labels=md.labels_\n",
    "    S.append(metrics.silhouette_score(X,labels,metric='euclidean'))\n",
    "plt.rc('font',size=16)\n",
    "plt.plot(range(2,K+1),S,'b*-')\n"
   ],
   "metadata": {
    "collapsed": false,
    "pycharm": {
     "name": "#%%\n"
    }
   }
  }
 ],
 "metadata": {
  "kernelspec": {
   "name": "pycharm-1dac48b0",
   "language": "python",
   "display_name": "PyCharm (shiyan)"
  },
  "language_info": {
   "codemirror_mode": {
    "name": "ipython",
    "version": 2
   },
   "file_extension": ".py",
   "mimetype": "text/x-python",
   "name": "python",
   "nbconvert_exporter": "python",
   "pygments_lexer": "ipython2",
   "version": "2.7.6"
  }
 },
 "nbformat": 4,
 "nbformat_minor": 0
}
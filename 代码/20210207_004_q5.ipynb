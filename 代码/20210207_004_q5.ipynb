{
 "cells": [
  {
   "cell_type": "code",
   "execution_count": 74,
   "outputs": [],
   "source": [
    "import pandas as pd\n",
    "data=pd.read_csv('TempData/q3_cleaned_data.csv',encoding='utf-8')"
   ],
   "metadata": {
    "collapsed": false,
    "pycharm": {
     "name": "#%%\n"
    }
   }
  },
  {
   "cell_type": "code",
   "execution_count": 87,
   "outputs": [
    {
     "data": {
      "text/plain": "        popularity      id\nnew_id                    \n165011         905  165011\n869487         624  869487\n604852         580  604852\n167517         537  167517\n237517         500  237517\n...            ...     ...\n365542           0  365542\n367272           0  367272\n809058           0  809058\n369389           0  369389\n362437           0  362437\n\n[480 rows x 2 columns]",
      "text/html": "<div>\n<style scoped>\n    .dataframe tbody tr th:only-of-type {\n        vertical-align: middle;\n    }\n\n    .dataframe tbody tr th {\n        vertical-align: top;\n    }\n\n    .dataframe thead th {\n        text-align: right;\n    }\n</style>\n<table border=\"1\" class=\"dataframe\">\n  <thead>\n    <tr style=\"text-align: right;\">\n      <th></th>\n      <th>popularity</th>\n      <th>id</th>\n    </tr>\n    <tr>\n      <th>new_id</th>\n      <th></th>\n      <th></th>\n    </tr>\n  </thead>\n  <tbody>\n    <tr>\n      <th>165011</th>\n      <td>905</td>\n      <td>165011</td>\n    </tr>\n    <tr>\n      <th>869487</th>\n      <td>624</td>\n      <td>869487</td>\n    </tr>\n    <tr>\n      <th>604852</th>\n      <td>580</td>\n      <td>604852</td>\n    </tr>\n    <tr>\n      <th>167517</th>\n      <td>537</td>\n      <td>167517</td>\n    </tr>\n    <tr>\n      <th>237517</th>\n      <td>500</td>\n      <td>237517</td>\n    </tr>\n    <tr>\n      <th>...</th>\n      <td>...</td>\n      <td>...</td>\n    </tr>\n    <tr>\n      <th>365542</th>\n      <td>0</td>\n      <td>365542</td>\n    </tr>\n    <tr>\n      <th>367272</th>\n      <td>0</td>\n      <td>367272</td>\n    </tr>\n    <tr>\n      <th>809058</th>\n      <td>0</td>\n      <td>809058</td>\n    </tr>\n    <tr>\n      <th>369389</th>\n      <td>0</td>\n      <td>369389</td>\n    </tr>\n    <tr>\n      <th>362437</th>\n      <td>0</td>\n      <td>362437</td>\n    </tr>\n  </tbody>\n</table>\n<p>480 rows × 2 columns</p>\n</div>"
     },
     "execution_count": 87,
     "metadata": {},
     "output_type": "execute_result"
    }
   ],
   "source": [
    "'''第一个变革期'''\n",
    "data1=data[(data['year']>=1944)&(data['year']<=1952)]\n",
    "a=data1.groupby('new_id')['popularity'].sum()\n",
    "a=pd.DataFrame(a)\n",
    "a['id']=list(a.index)\n",
    "a=a.sort_values(['popularity'],ascending=False)\n",
    "a.to_csv(\"TempData/question5/change_time01.csv\",encoding=\"utf-8\",index=False)\n",
    "a"
   ],
   "metadata": {
    "collapsed": false,
    "pycharm": {
     "name": "#%%\n"
    }
   }
  },
  {
   "cell_type": "code",
   "execution_count": 89,
   "outputs": [
    {
     "data": {
      "text/plain": "        popularity      id\nnew_id                    \n622805        3188  622805\n988440        2773  988440\n626463        2629  626463\n44764         2356   44764\n41874         2263   41874\n...            ...     ...\n185617           8  185617\n214593           8  214593\n137494           7  137494\n194578           7  194578\n138699           6  138699\n\n[1066 rows x 2 columns]",
      "text/html": "<div>\n<style scoped>\n    .dataframe tbody tr th:only-of-type {\n        vertical-align: middle;\n    }\n\n    .dataframe tbody tr th {\n        vertical-align: top;\n    }\n\n    .dataframe thead th {\n        text-align: right;\n    }\n</style>\n<table border=\"1\" class=\"dataframe\">\n  <thead>\n    <tr style=\"text-align: right;\">\n      <th></th>\n      <th>popularity</th>\n      <th>id</th>\n    </tr>\n    <tr>\n      <th>new_id</th>\n      <th></th>\n      <th></th>\n    </tr>\n  </thead>\n  <tbody>\n    <tr>\n      <th>622805</th>\n      <td>3188</td>\n      <td>622805</td>\n    </tr>\n    <tr>\n      <th>988440</th>\n      <td>2773</td>\n      <td>988440</td>\n    </tr>\n    <tr>\n      <th>626463</th>\n      <td>2629</td>\n      <td>626463</td>\n    </tr>\n    <tr>\n      <th>44764</th>\n      <td>2356</td>\n      <td>44764</td>\n    </tr>\n    <tr>\n      <th>41874</th>\n      <td>2263</td>\n      <td>41874</td>\n    </tr>\n    <tr>\n      <th>...</th>\n      <td>...</td>\n      <td>...</td>\n    </tr>\n    <tr>\n      <th>185617</th>\n      <td>8</td>\n      <td>185617</td>\n    </tr>\n    <tr>\n      <th>214593</th>\n      <td>8</td>\n      <td>214593</td>\n    </tr>\n    <tr>\n      <th>137494</th>\n      <td>7</td>\n      <td>137494</td>\n    </tr>\n    <tr>\n      <th>194578</th>\n      <td>7</td>\n      <td>194578</td>\n    </tr>\n    <tr>\n      <th>138699</th>\n      <td>6</td>\n      <td>138699</td>\n    </tr>\n  </tbody>\n</table>\n<p>1066 rows × 2 columns</p>\n</div>"
     },
     "execution_count": 89,
     "metadata": {},
     "output_type": "execute_result"
    }
   ],
   "source": [
    "'''第二个变革期'''\n",
    "data2=data[(data['year']>=1962)&(data['year']<=1965)]\n",
    "a=data2.groupby('new_id')['popularity'].sum()\n",
    "a=pd.DataFrame(a)\n",
    "a['id']=list(a.index)\n",
    "a=a.sort_values(['popularity'],ascending=False)\n",
    "a.to_csv(\"TempData/question5/change_time02.csv\",encoding=\"utf-8\",index=False)\n",
    "a"
   ],
   "metadata": {
    "collapsed": false,
    "pycharm": {
     "name": "#%%\n"
    }
   }
  },
  {
   "cell_type": "code",
   "execution_count": 91,
   "outputs": [
    {
     "data": {
      "text/plain": "        popularity      id\nnew_id                    \n66915        10800   66915\n79016         8840   79016\n792507        7251  792507\n816890        5032  816890\n858827        4878  858827\n...            ...     ...\n806247          20  806247\n479113          19  479113\n363327          19  363327\n110541          19  110541\n343396          19  343396\n\n[2290 rows x 2 columns]",
      "text/html": "<div>\n<style scoped>\n    .dataframe tbody tr th:only-of-type {\n        vertical-align: middle;\n    }\n\n    .dataframe tbody tr th {\n        vertical-align: top;\n    }\n\n    .dataframe thead th {\n        text-align: right;\n    }\n</style>\n<table border=\"1\" class=\"dataframe\">\n  <thead>\n    <tr style=\"text-align: right;\">\n      <th></th>\n      <th>popularity</th>\n      <th>id</th>\n    </tr>\n    <tr>\n      <th>new_id</th>\n      <th></th>\n      <th></th>\n    </tr>\n  </thead>\n  <tbody>\n    <tr>\n      <th>66915</th>\n      <td>10800</td>\n      <td>66915</td>\n    </tr>\n    <tr>\n      <th>79016</th>\n      <td>8840</td>\n      <td>79016</td>\n    </tr>\n    <tr>\n      <th>792507</th>\n      <td>7251</td>\n      <td>792507</td>\n    </tr>\n    <tr>\n      <th>816890</th>\n      <td>5032</td>\n      <td>816890</td>\n    </tr>\n    <tr>\n      <th>858827</th>\n      <td>4878</td>\n      <td>858827</td>\n    </tr>\n    <tr>\n      <th>...</th>\n      <td>...</td>\n      <td>...</td>\n    </tr>\n    <tr>\n      <th>806247</th>\n      <td>20</td>\n      <td>806247</td>\n    </tr>\n    <tr>\n      <th>479113</th>\n      <td>19</td>\n      <td>479113</td>\n    </tr>\n    <tr>\n      <th>363327</th>\n      <td>19</td>\n      <td>363327</td>\n    </tr>\n    <tr>\n      <th>110541</th>\n      <td>19</td>\n      <td>110541</td>\n    </tr>\n    <tr>\n      <th>343396</th>\n      <td>19</td>\n      <td>343396</td>\n    </tr>\n  </tbody>\n</table>\n<p>2290 rows × 2 columns</p>\n</div>"
     },
     "execution_count": 91,
     "metadata": {},
     "output_type": "execute_result"
    }
   ],
   "source": [
    "'''第三个变革期'''\n",
    "data3=data[(data['year']>=1975)&(data['year']<=1985)]\n",
    "a=data3.groupby('new_id')['popularity'].sum()\n",
    "a=pd.DataFrame(a)\n",
    "a['id']=list(a.index)\n",
    "a=a.sort_values(['popularity'],ascending=False)\n",
    "a.to_csv(\"TempData/question5/change_time03.csv\",encoding=\"utf-8\",index=False)\n",
    "a\n"
   ],
   "metadata": {
    "collapsed": false,
    "pycharm": {
     "name": "#%%\n"
    }
   }
  }
 ],
 "metadata": {
  "kernelspec": {
   "name": "pycharm-1dac48b0",
   "language": "python",
   "display_name": "PyCharm (shiyan)"
  },
  "language_info": {
   "codemirror_mode": {
    "name": "ipython",
    "version": 2
   },
   "file_extension": ".py",
   "mimetype": "text/x-python",
   "name": "python",
   "nbconvert_exporter": "python",
   "pygments_lexer": "ipython2",
   "version": "2.7.6"
  }
 },
 "nbformat": 4,
 "nbformat_minor": 0
}